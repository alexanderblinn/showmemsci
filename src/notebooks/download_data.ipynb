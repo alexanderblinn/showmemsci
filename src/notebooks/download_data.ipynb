{
 "cells": [
  {
   "cell_type": "code",
   "execution_count": 2,
   "id": "a539cf8f",
   "metadata": {},
   "outputs": [],
   "source": [
    "import yfinance as yf\n",
    "import pandas as pd"
   ]
  },
  {
   "cell_type": "code",
   "execution_count": 4,
   "id": "0cf03bdc",
   "metadata": {},
   "outputs": [
    {
     "name": "stderr",
     "output_type": "stream",
     "text": [
      "[*********************100%***********************]  1 of 1 completed"
     ]
    },
    {
     "name": "stdout",
     "output_type": "stream",
     "text": [
      "Price                 Close             High              Low  \\\n",
      "Ticker     ^990100-USD-STRD ^990100-USD-STRD ^990100-USD-STRD   \n",
      "Date                                                            \n",
      "1972-01-03       104.300003       104.300003       104.300003   \n",
      "1972-01-04       104.599998       104.599998       104.599998   \n",
      "1972-01-05       105.599998       105.599998       105.599998   \n",
      "1972-01-06       110.800003       110.800003       110.800003   \n",
      "1972-01-07       110.900002       110.900002       110.900002   \n",
      "\n",
      "Price                  Open           Volume  \n",
      "Ticker     ^990100-USD-STRD ^990100-USD-STRD  \n",
      "Date                                          \n",
      "1972-01-03       104.300003                0  \n",
      "1972-01-04       104.599998                0  \n",
      "1972-01-05       105.599998                0  \n",
      "1972-01-06       110.800003                0  \n",
      "1972-01-07       110.900002                0  \n"
     ]
    },
    {
     "name": "stderr",
     "output_type": "stream",
     "text": [
      "\n"
     ]
    }
   ],
   "source": [
    "# Zeitraum festlegen\n",
    "start = \"1970-01-01\"\n",
    "end = \"2025-07-06\"\n",
    "\n",
    "# MSCI World Index via Yahoo Finance (Ticker ^990100-USD-STRD)\n",
    "msci = yf.download(\"^990100-USD-STRD\", start=start, end=end, interval=\"1d\", auto_adjust=True)\n",
    "\n",
    "# Überblick\n",
    "print(msci.head())"
   ]
  },
  {
   "cell_type": "code",
   "execution_count": null,
   "id": "4358d3f5",
   "metadata": {},
   "outputs": [],
   "source": [
    "# Speichern als CSV\n",
    "msci.to_csv(\"MSCI_World_daily.csv\")"
   ]
  }
 ],
 "metadata": {
  "kernelspec": {
   "display_name": ".venv",
   "language": "python",
   "name": "python3"
  },
  "language_info": {
   "codemirror_mode": {
    "name": "ipython",
    "version": 3
   },
   "file_extension": ".py",
   "mimetype": "text/x-python",
   "name": "python",
   "nbconvert_exporter": "python",
   "pygments_lexer": "ipython3",
   "version": "3.13.5"
  }
 },
 "nbformat": 4,
 "nbformat_minor": 5
}
